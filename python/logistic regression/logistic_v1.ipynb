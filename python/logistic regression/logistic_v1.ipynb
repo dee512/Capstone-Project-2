{
 "cells": [
  {
   "cell_type": "code",
   "execution_count": 11,
   "metadata": {
    "collapsed": true
   },
   "outputs": [],
   "source": [
    "import numpy as np\n",
    "from netCDF4 import Dataset\n",
    "from sklearn import linear_model\n",
    "import matplotlib.pyplot as plt\n",
    "from sklearn.linear_model import LogisticRegression\n",
    "from sklearn.cross_validation import train_test_split\n",
    "from sklearn import metrics\n",
    "from sklearn.cross_validation import cross_val_score"
   ]
  },
  {
   "cell_type": "code",
   "execution_count": 8,
   "metadata": {},
   "outputs": [],
   "source": [
    "f1 = Dataset('../multi_eof.nc', 'r')\n",
    "f2 = Dataset('../gpcc.r.1x1.classified.nc', 'r')\n",
    "r = f2.variables['r']\n",
    "x0 = f1.variables['eof_ts']\n",
    "x = np.transpose(x0)"
   ]
  },
  {
   "cell_type": "code",
   "execution_count": 19,
   "metadata": {},
   "outputs": [],
   "source": [
    "lat = f2.variables['lat'][:]\n",
    "lon = f2.variables['lon'][:]\n",
    "lat_bnds, lon_bnds = [-18, -2], [287, 313]\n",
    "lat_inds = np.where((lat > lat_bnds[0]) & (lat < lat_bnds[1]))[0]\n",
    "lon_inds = np.where((lon > lon_bnds[0]) & (lon < lon_bnds[1]))[0]\n",
    "#y = rain.variables['r'][:,:,np.min(lat_inds):np.max(lat_inds),np.min(lon_inds):np.max(lon_inds)]\n",
    "y = f2.variables['r'][:,:,lat_inds,lon_inds]"
   ]
  },
  {
   "cell_type": "code",
   "execution_count": 20,
   "metadata": {
    "collapsed": true
   },
   "outputs": [],
   "source": [
    "nyear = len(f2.variables['year'])\n",
    "nmonth = len(f2.variables['month'])\n",
    "nlat = len(lat_inds)\n",
    "nlon = len(lon_inds) "
   ]
  },
  {
   "cell_type": "markdown",
   "metadata": {},
   "source": [
    "# This is normal logistic regression"
   ]
  },
  {
   "cell_type": "code",
   "execution_count": 34,
   "metadata": {},
   "outputs": [],
   "source": [
    "predictY = np.zeros((nyear,nmonth,nlat,nlon))\n",
    "accuracy_val = np.zeros((nmonth,nlat,nlon))\n",
    "accuracy_test = np.zeros((nmonth,nlat,nlon))\n",
    "\n",
    "for ilat in range(nlat):\n",
    "    for ilon in range(nlon):\n",
    "        for imonth in range(nmonth):\n",
    "            reg = LogisticRegression()\n",
    "            reg.fit(x[0:30,:],y[0:30,imonth,ilat,ilon])\n",
    "            predictY[:,imonth,ilat,ilon] = reg.predict(x)\n",
    "            #print(reg.predict_proba(x).shape)\n",
    "            del reg\n",
    "            accuracy_val[imonth,ilat,ilon] = metrics.accuracy_score(y[0:30,imonth,ilat,ilon], predictY[0:30,imonth,ilat,ilon])\n",
    "            accuracy_test[imonth,ilat,ilon] = metrics.accuracy_score(y[30:nyear,imonth,ilat,ilon], predictY[30:nyear,imonth,ilat,ilon])"
   ]
  },
  {
   "cell_type": "code",
   "execution_count": 30,
   "metadata": {
    "collapsed": true
   },
   "outputs": [],
   "source": [
    "pr = Dataset('predict.r.logistic.simple.nc', 'w',format='NETCDF3_64BIT')\n",
    "pr.description = 'predicted rainfall anomalies using simple logistic regression'\n",
    "\n",
    "pr.createDimension('year', nyear)\n",
    "pr.createDimension('month', nmonth)\n",
    "pr.createDimension('lat', nlat)\n",
    "pr.createDimension('lon', nlon)\n",
    "\n",
    "fyear = pr.createVariable('year', 'f', ('year',))\n",
    "fmonth = pr.createVariable('month', 'f', ('month',))\n",
    "flat = pr.createVariable('lat', 'f', ('lat',))\n",
    "flon = pr.createVariable('lon', 'f', ('lon',))\n",
    "newr = pr.createVariable('r', 'f4', ('year', 'month','lat','lon'),fill_value=-999)\n",
    "acc_val = pr.createVariable('acc_val', 'f4', ('month','lat','lon'),fill_value=-999)\n",
    "acc_test = pr.createVariable('acc_test', 'f4', ('month','lat','lon'),fill_value=-999)\n",
    "\n",
    "fyear[:] = f2.variables['year']\n",
    "fmonth[:] = f2.variables['month']\n",
    "flat[:] = f2.variables['lat'][lat_inds]\n",
    "flon[:] = f2.variables['lon'][lon_inds]\n",
    "newr[:,:,:,:] = predictY[:,:,:,:]\n",
    "acc_val[:,:,:] = accuracy_val[:,:,:]\n",
    "acc_test[:,:,:] = accuracy_test[:,:,:]\n",
    "flat.units = \"degrees_north\"\n",
    "flat.long_name = \"Latitude\"\n",
    "flon.units = \"degrees_east\"\n",
    "flon.long_name = \"Longitude\"\n",
    "newr.long_name = 'predicted rainfall anomalies using simple logistic regression'\n",
    "pr.close()"
   ]
  },
  {
   "cell_type": "markdown",
   "metadata": {},
   "source": [
    "# This is for Logistic regression to find out the best alpha"
   ]
  },
  {
   "cell_type": "code",
   "execution_count": 64,
   "metadata": {},
   "outputs": [],
   "source": [
    "def sigmoid(z):\n",
    "    return np.divide(1.0,(1.0 + np.exp(-z)))\n",
    "    \n",
    "def compute_cost(Y, predictY):\n",
    "    y = np.zeros(len(predictY))\n",
    "    y[Y-np.min(Y)] = 1\n",
    "    Jc = np.sum(np.dot(-y,np.log(sigmoid(predictY)))-np.dot((1-y),np.log(1.-sigmoid(predictY))))\n",
    "    return Jc"
   ]
  },
  {
   "cell_type": "code",
   "execution_count": 65,
   "metadata": {},
   "outputs": [
    {
     "name": "stderr",
     "output_type": "stream",
     "text": [
      "//anaconda/lib/python3.5/site-packages/sklearn/linear_model/base.py:284: RuntimeWarning: overflow encountered in exp\n",
      "  np.exp(prob, prob)\n"
     ]
    },
    {
     "name": "stdout",
     "output_type": "stream",
     "text": [
      "completed!\n"
     ]
    }
   ],
   "source": [
    "n_lambdas = 200\n",
    "lambdas = np.logspace(-4, 8, n_lambdas)\n",
    "\n",
    "vRSS = []\n",
    "tRSS = []\n",
    "for imonth in range(nmonth):\n",
    "    for ia in range(len(lambdas)):\n",
    "        validation_RSS = 0.\n",
    "        test_RSS = 0.\n",
    "        reg = LogisticRegression (C = lambdas[ia])\n",
    "        \n",
    "        for ilat in range(nlat):\n",
    "            for ilon in range(nlon):\n",
    "                reg.fit(x[0:30,:],y[0:30,imonth,ilat,ilon])\n",
    "                predictY = reg.predict_proba(x)\n",
    "                \n",
    "                for iyear in range(30):\n",
    "                    validation_RSS = validation_RSS + compute_cost(y[iyear,imonth,ilat,ilon],predictY[iyear,:])\n",
    "                    \n",
    "                for iyear in range(nyear-30):\n",
    "                    test_RSS = test_RSS + compute_cost(y[iyear+30,imonth,ilat,ilon],predictY[iyear+30,:])\n",
    "                    \n",
    "                del predictY\n",
    "        vRSS.append(validation_RSS)\n",
    "        tRSS.append(test_RSS)\n",
    "        del reg,validation_RSS,test_RSS\n",
    "print(\"completed!\")"
   ]
  },
  {
   "cell_type": "code",
   "execution_count": 67,
   "metadata": {},
   "outputs": [
    {
     "name": "stdout",
     "output_type": "stream",
     "text": [
      "0.0001\n"
     ]
    },
    {
     "data": {
      "image/png": "[encoded data removed]",
      "text/plain": [
       "<matplotlib.figure.Figure at 0x112de32b0>"
      ]
     },
     "metadata": {},
     "output_type": "display_data"
    }
   ],
   "source": [
    "ax = plt.gca()\n",
    "\n",
    "ax.plot(lambdas, np.array(vRSS[0:200])/30.,label='$J_{train}$ (Sep)')\n",
    "ax.plot(lambdas, np.array(vRSS[200:400])/30.,label='$J_{train}$ (Oct)')\n",
    "ax.plot(lambdas, np.array(vRSS[400:600])/30.,label='$J_{train}$ (Nov)')\n",
    "ax.plot(lambdas, np.array(tRSS[0:200])/(nyear-30.),'--',label='$J_{cv}$ (Sep)')\n",
    "ax.plot(lambdas, np.array(tRSS[200:400])/(nyear-30.),'--',label='$J_{cv}$ (Oct)')\n",
    "ax.plot(lambdas, np.array(tRSS[400:600])/(nyear-30.),'--',label='$J_{cv}$ (Nov)')\n",
    "total = (np.array(vRSS[0:200])+np.array(vRSS[200:400])+np.array(vRSS[400:600])+np.array(tRSS[0:200])+np.array(tRSS[200:400])+np.array(tRSS[400:600]))/6./nyear\n",
    "#ax.plot(alphas, total,'--',label='average',linewidth=2.0)\n",
    "print(lambdas[np.argmin(total)])\n",
    "\n",
    "plt.xlabel('alpha')\n",
    "plt.ylabel('RSS')\n",
    "plt.title('Ridge RSS as a function of the regularization')\n",
    "plt.axis('tight')\n",
    "ax.set_xscale('log')\n",
    "#ax.set_xlim(ax.get_xlim()[::-1])  # reverse axis\n",
    "#ax.set_ylim([0.,1500.])\n",
    "plt.legend()\n",
    "\n",
    "plt.show()   \n",
    "#plt.savefig('Ridge.jpg', format='jpg', dpi=1000)"
   ]
  },
  {
   "cell_type": "markdown",
   "metadata": {},
   "source": [
    "# with regulization"
   ]
  },
  {
   "cell_type": "code",
   "execution_count": 84,
   "metadata": {},
   "outputs": [],
   "source": [
    "predictY = np.zeros((nyear,nmonth,nlat,nlon))\n",
    "accuracy_val = np.zeros((nmonth,nlat,nlon))\n",
    "accuracy_test = np.zeros((nmonth,nlat,nlon))\n",
    "\n",
    "for ilat in range(nlat):\n",
    "    for ilon in range(nlon):\n",
    "        for imonth in range(nmonth):\n",
    "            reg = LogisticRegression(C=1e5)\n",
    "            reg.fit(x[0:32,:],y[0:32,imonth,ilat,ilon])\n",
    "            predictY[:,imonth,ilat,ilon] = reg.predict(x)\n",
    "            #print(reg.predict_proba(x).shape)\n",
    "            del reg\n",
    "            accuracy_val[imonth,ilat,ilon] = metrics.accuracy_score(y[0:30,imonth,ilat,ilon], predictY[0:30,imonth,ilat,ilon])\n",
    "            accuracy_test[imonth,ilat,ilon] = metrics.accuracy_score(y[30:nyear,imonth,ilat,ilon], predictY[30:nyear,imonth,ilat,ilon])"
   ]
  },
  {
   "cell_type": "code",
   "execution_count": 85,
   "metadata": {
    "collapsed": true
   },
   "outputs": [],
   "source": [
    "pr = Dataset('predict.r.logistic.regulization.nc', 'w',format='NETCDF3_64BIT')\n",
    "pr.description = 'predicted rainfall anomalies using simple logistic regression'\n",
    "\n",
    "pr.createDimension('year', nyear)\n",
    "pr.createDimension('month', nmonth)\n",
    "pr.createDimension('lat', nlat)\n",
    "pr.createDimension('lon', nlon)\n",
    "\n",
    "fyear = pr.createVariable('year', 'f', ('year',))\n",
    "fmonth = pr.createVariable('month', 'f', ('month',))\n",
    "flat = pr.createVariable('lat', 'f', ('lat',))\n",
    "flon = pr.createVariable('lon', 'f', ('lon',))\n",
    "newr = pr.createVariable('r', 'f4', ('year', 'month','lat','lon'),fill_value=-999)\n",
    "acc_val = pr.createVariable('acc_val', 'f4', ('month','lat','lon'),fill_value=-999)\n",
    "acc_test = pr.createVariable('acc_test', 'f4', ('month','lat','lon'),fill_value=-999)\n",
    "\n",
    "fyear[:] = f2.variables['year']\n",
    "fmonth[:] = f2.variables['month']\n",
    "flat[:] = f2.variables['lat'][lat_inds]\n",
    "flon[:] = f2.variables['lon'][lon_inds]\n",
    "newr[:,:,:,:] = predictY[:,:,:,:]\n",
    "acc_val[:,:,:] = accuracy_val[:,:,:]\n",
    "acc_test[:,:,:] = accuracy_test[:,:,:]\n",
    "flat.units = \"degrees_north\"\n",
    "flat.long_name = \"Latitude\"\n",
    "flon.units = \"degrees_east\"\n",
    "flon.long_name = \"Longitude\"\n",
    "newr.long_name = 'predicted rainfall anomalies using simple logistic regression'\n",
    "pr.close()"
   ]
  },
  {
   "cell_type": "code",
   "execution_count": null,
   "metadata": {},
   "outputs": [],
   "source": []
  },
  {
   "cell_type": "code",
   "execution_count": null,
   "metadata": {},
   "outputs": [],
   "source": []
  },
  {
   "cell_type": "code",
   "execution_count": null,
   "metadata": {
    "collapsed": true
   },
   "outputs": [],
   "source": []
  }
 ],
 "metadata": {
  "anaconda-cloud": {},
  "kernelspec": {
   "display_name": "Python 3",
   "language": "python",
   "name": "python3"
  },
  "language_info": {
   "codemirror_mode": {
    "name": "ipython",
    "version": 3
   },
   "file_extension": ".py",
   "mimetype": "text/x-python",
   "name": "python",
   "nbconvert_exporter": "python",
   "pygments_lexer": "ipython3",
   "version": "3.7.3"
  }
 },
 "nbformat": 4,
 "nbformat_minor": 1
}
