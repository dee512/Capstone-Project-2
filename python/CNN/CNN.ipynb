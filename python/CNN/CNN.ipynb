{
 "cells": [
  {
   "cell_type": "code",
   "execution_count": 3,
   "metadata": {},
   "outputs": [],
   "source": [
    "import numpy as np\n",
    "from netCDF4 import Dataset\n",
    "from sklearn import linear_model\n",
    "import matplotlib.pyplot as plt\n",
    "from sklearn.linear_model import LogisticRegression\n",
    "from sklearn.model_selection import train_test_split\n",
    "from sklearn import metrics\n",
    "from sklearn.model_selection import cross_val_score\n",
    "from sklearn.neural_network import MLPClassifier"
   ]
  },
  {
   "cell_type": "code",
   "execution_count": 4,
   "metadata": {},
   "outputs": [],
   "source": [
    "f1 = Dataset('../multi_eof.nc', 'r')\n",
    "f2 = Dataset('../gpcc.r.1x1.classified.nc', 'r')\n",
    "r = f2.variables['r']\n",
    "x0 = f1.variables['eof_ts']\n",
    "x = np.transpose(x0)"
   ]
  },
  {
   "cell_type": "code",
   "execution_count": 3,
   "metadata": {
    "collapsed": true
   },
   "outputs": [],
   "source": [
    "lat = f2.variables['lat'][:]\n",
    "lon = f2.variables['lon'][:]\n",
    "lat_bnds, lon_bnds = [-18, -2], [287, 313]\n",
    "lat_inds = np.where((lat > lat_bnds[0]) & (lat < lat_bnds[1]))[0]\n",
    "lon_inds = np.where((lon > lon_bnds[0]) & (lon < lon_bnds[1]))[0]\n",
    "#y = rain.variables['r'][:,:,np.min(lat_inds):np.max(lat_inds),np.min(lon_inds):np.max(lon_inds)]\n",
    "y = f2.variables['r'][:,:,lat_inds,lon_inds]"
   ]
  },
  {
   "cell_type": "code",
   "execution_count": 4,
   "metadata": {
    "collapsed": true
   },
   "outputs": [],
   "source": [
    "nyear = len(f2.variables['year'])\n",
    "nmonth = len(f2.variables['month'])\n",
    "nlat = len(lat_inds)\n",
    "nlon = len(lon_inds) "
   ]
  },
  {
   "cell_type": "markdown",
   "metadata": {},
   "source": [
    "# This is for CNN to find out the best alpha"
   ]
  },
  {
   "cell_type": "code",
   "execution_count": 5,
   "metadata": {
    "collapsed": true
   },
   "outputs": [],
   "source": [
    "def sigmoid(z):\n",
    "    return np.divide(1.0,(1.0 + np.exp(-z)))\n",
    "    \n",
    "def compute_cost(Y, predictY):\n",
    "    y = np.zeros(len(predictY))\n",
    "    y[Y-np.min(Y)] = 1\n",
    "    Jc = np.sum(np.dot(-y,np.log(sigmoid(predictY)))-np.dot((1-y),np.log(1.-sigmoid(predictY))))\n",
    "    return Jc"
   ]
  },
  {
   "cell_type": "code",
   "execution_count": 9,
   "metadata": {},
   "outputs": [
    {
     "name": "stdout",
     "output_type": "stream",
     "text": [
      "completed!\n"
     ]
    }
   ],
   "source": [
    "n_alphas = 200\n",
    "alphas = np.logspace(-8, 8, n_alphas)\n",
    "\n",
    "k_list = [i for i in range(0,nyear,3)]\n",
    "k_list[len(k_list)-1] = nyear # make last year\n",
    "\n",
    "alpha_map = np.zeros((nmonth,nlat,nlon))\n",
    "for imonth in range(nmonth): # each month has its own model\n",
    "    for ilat in range(nlat): # each location has its own model\n",
    "        for ilon in range(nlon):\n",
    "            tRSS = []\n",
    "            \n",
    "            for ia in range(len(alphas)):\n",
    "                val_RSS = 0.\n",
    "                \n",
    "                for ik in range(len(k_list)-1):\n",
    "                    val_set = [i for i in range(k_list[ik],k_list[ik+1])]\n",
    "                    train_set = [i for j, i in enumerate(range(nyear)) if j not in val_set]\n",
    "                    \n",
    "                    reg = MLPClassifier(solver='lbgfs', alpha=alphas[ia],hidden_layer_sizes=(5,), random_state=1)\n",
    "                    reg.fit(x[train_set,:],y[train_set,imonth,ilat,ilon])\n",
    "                    predictY = reg.predict_proba(x[val_set,:])\n",
    "                    \n",
    "                    for iv in range(len(val_set)):\n",
    "                        val_RSS = val_RSS + compute_cost(y[val_set[iv],imonth,ilat,ilon],predictY[iv,:])\n",
    "                    \n",
    "                    del val_set,train_set,predictY,reg\n",
    "                \n",
    "                tRSS.append(val_RSS)\n",
    "                del val_RSS\n",
    "                \n",
    "            alpha_map[imonth,ilat,ilon] = alphas[np.argmin(tRSS)]\n",
    "            del tRSS\n",
    "print(\"completed!\")"
   ]
  },
  {
   "cell_type": "code",
   "execution_count": 10,
   "metadata": {},
   "outputs": [
    {
     "name": "stdout",
     "output_type": "stream",
     "text": [
      "completed!\n"
     ]
    }
   ],
   "source": [
    "predictY = np.zeros((nyear,nmonth,nlat,nlon))\n",
    "                               \n",
    "for imonth in range(nmonth):\n",
    "    for ilat in range(nlat):\n",
    "        for ilon in range(nlon):\n",
    "            reg = LogisticRegression (C = alpha_map[imonth,ilat,ilon])\n",
    "            reg.fit(x[:,:],y[:,imonth,ilat,ilon])\n",
    "            predictY[:,imonth,ilat,ilon] = reg.predict(x)\n",
    "            del reg\n",
    "print(\"completed!\")"
   ]
  },
  {
   "cell_type": "markdown",
   "metadata": {},
   "source": [
    "# with regulization"
   ]
  },
  {
   "cell_type": "code",
   "execution_count": 11,
   "metadata": {
    "collapsed": true
   },
   "outputs": [],
   "source": [
    "predictY = np.zeros((nyear,nmonth,nlat,nlon))\n",
    "accuracy_score = np.zeros((nmonth,nlat,nlon))\n",
    "\n",
    "for ilat in range(nlat):\n",
    "    for ilon in range(nlon):\n",
    "        for imonth in range(nmonth):\n",
    "            reg = MLPClassifier(solver='lbgfs', alpha=alpha_map[imonth,ilat,ilon],hidden_layer_sizes=(5,), random_state=1)\n",
    "            reg.fit(x[:,:],y[:,imonth,ilat,ilon])\n",
    "            predictY[:,imonth,ilat,ilon] = reg.predict(x)\n",
    "            #print(reg.predict_proba(x).shape)\n",
    "            del reg\n",
    "            accuracy_score[imonth,ilat,ilon] = metrics.accuracy_score(y[:,imonth,ilat,ilon], predictY[:,imonth,ilat,ilon])"
   ]
  },
  {
   "cell_type": "code",
   "execution_count": 12,
   "metadata": {
    "collapsed": true
   },
   "outputs": [],
   "source": [
    "pr = Dataset('predict.r.CNN.regulization.nc', 'w',format='NETCDF3_64BIT')\n",
    "pr.description = 'predicted rainfall anomalies using simple CNN method'\n",
    "\n",
    "pr.createDimension('year', nyear)\n",
    "pr.createDimension('month', nmonth)\n",
    "pr.createDimension('lat', nlat)\n",
    "pr.createDimension('lon', nlon)\n",
    "\n",
    "fyear = pr.createVariable('year', 'f', ('year',))\n",
    "fmonth = pr.createVariable('month', 'f', ('month',))\n",
    "flat = pr.createVariable('lat', 'f', ('lat',))\n",
    "flon = pr.createVariable('lon', 'f', ('lon',))\n",
    "newr = pr.createVariable('r', 'f4', ('year', 'month','lat','lon'),fill_value=-999)\n",
    "acc = pr.createVariable('acc', 'f4', ('month','lat','lon'),fill_value=-999)\n",
    "\n",
    "fyear[:] = f2.variables['year']\n",
    "fmonth[:] = f2.variables['month']\n",
    "flat[:] = f2.variables['lat'][lat_inds]\n",
    "flon[:] = f2.variables['lon'][lon_inds]\n",
    "newr[:,:,:,:] = predictY[:,:,:,:]\n",
    "acc[:,:,:] = accuracy_score[:,:,:]\n",
    "flat.units = \"degrees_north\"\n",
    "flat.long_name = \"Latitude\"\n",
    "flon.units = \"degrees_east\"\n",
    "flon.long_name = \"Longitude\"\n",
    "newr.long_name = 'predicted rainfall anomalies using simple logistic regression'\n",
    "pr.close()"
   ]
  },
  {
   "cell_type": "code",
   "execution_count": null,
   "metadata": {
    "collapsed": true
   },
   "outputs": [],
   "source": []
  }
 ],
 "metadata": {
  "anaconda-cloud": {},
  "kernelspec": {
   "display_name": "Python 3",
   "language": "python",
   "name": "python3"
  },
  "language_info": {
   "codemirror_mode": {
    "name": "ipython",
    "version": 3
   },
   "file_extension": ".py",
   "mimetype": "text/x-python",
   "name": "python",
   "nbconvert_exporter": "python",
   "pygments_lexer": "ipython3",
   "version": "3.7.3"
  }
 },
 "nbformat": 4,
 "nbformat_minor": 1
}
