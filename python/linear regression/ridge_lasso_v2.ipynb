{
 "cells": [
  {
   "cell_type": "markdown",
   "metadata": {},
   "source": [
    "# This code is used for Ridge and Lasso regression"
   ]
  },
  {
   "cell_type": "code",
   "execution_count": 2,
   "metadata": {},
   "outputs": [],
   "source": [
    "import numpy as np\n",
    "from netCDF4 import Dataset\n",
    "from sklearn import linear_model\n",
    "import matplotlib.pyplot as plt"
   ]
  },
  {
   "cell_type": "code",
   "execution_count": 3,
   "metadata": {},
   "outputs": [],
   "source": [
    "n_features = 10\n",
    "f1 = Dataset('../multi_eof.nc', 'r')\n",
    "f2 = Dataset('../gpcc.r.1x1.nc', 'r')\n",
    "r = f2.variables['r']\n",
    "x0 = f1.variables['eof_ts'][0:n_features,:]\n",
    "x = np.transpose(x0)\n",
    "#np.shape(x)"
   ]
  },
  {
   "cell_type": "code",
   "execution_count": 4,
   "metadata": {},
   "outputs": [],
   "source": [
    "lat = f2.variables['lat'][:]\n",
    "lon = f2.variables['lon'][:]\n",
    "lat_bnds, lon_bnds = [-18, -2], [287, 313]\n",
    "lat_inds = np.where((lat > lat_bnds[0]) & (lat < lat_bnds[1]))[0]\n",
    "lon_inds = np.where((lon > lon_bnds[0]) & (lon < lon_bnds[1]))[0]\n",
    "#y = rain.variables['r'][:,:,np.min(lat_inds):np.max(lat_inds),np.min(lon_inds):np.max(lon_inds)]\n",
    "y = f2.variables['r'][:,:,lat_inds,lon_inds]"
   ]
  },
  {
   "cell_type": "code",
   "execution_count": 5,
   "metadata": {},
   "outputs": [],
   "source": [
    "nyear = len(f2.variables['year'])\n",
    "nmonth = len(f2.variables['month'])\n",
    "nlat = len(lat_inds)\n",
    "nlon = len(lon_inds) "
   ]
  },
  {
   "cell_type": "markdown",
   "metadata": {},
   "source": [
    "# This is for Ridge regression to find out the best alpha"
   ]
  },
  {
   "cell_type": "code",
   "execution_count": 6,
   "metadata": {},
   "outputs": [
    {
     "data": {
      "text/plain": [
       "[0, 3, 6, 9, 12, 15, 18, 21, 24, 27, 30, 33, 36]"
      ]
     },
     "execution_count": 6,
     "metadata": {},
     "output_type": "execute_result"
    }
   ],
   "source": [
    "[i for i in range(0,nyear,3)]"
   ]
  },
  {
   "cell_type": "code",
   "execution_count": 11,
   "metadata": {},
   "outputs": [
    {
     "name": "stdout",
     "output_type": "stream",
     "text": [
      "completed!\n"
     ]
    }
   ],
   "source": [
    "n_alphas = 200\n",
    "alphas = np.logspace(-1, 15, n_alphas)\n",
    "\n",
    "k_list = [i for i in range(0,nyear,3)]\n",
    "k_list[len(k_list)-1] = nyear # make last year\n",
    "\n",
    "alpha_map = np.zeros((nmonth,nlat,nlon))\n",
    "\n",
    "for imonth in range(nmonth): # each month has its own model\n",
    "    for ilat in range(nlat): # each location has its own model\n",
    "        for ilon in range(nlon):\n",
    "            tRSS = []\n",
    "            \n",
    "            for ia in range(len(alphas)):\n",
    "                val_RSS = 0.\n",
    "                \n",
    "                for ik in range(len(k_list)-1):\n",
    "                    val_set = [i for i in range(k_list[ik],k_list[ik+1])]\n",
    "                    train_set = [i for j, i in enumerate(range(nyear)) if j not in val_set]\n",
    "                    \n",
    "                    reg = linear_model.Ridge (alpha = alphas[ia])\n",
    "                    reg.fit(x[train_set,:],y[train_set,imonth,ilat,ilon])\n",
    "                    predictY = reg.predict(x[val_set,:])\n",
    "                    \n",
    "                    val_residuals = y[val_set,imonth,ilat,ilon]-predictY[:]\n",
    "                    val_RSS = (val_residuals**2).sum() + val_RSS\n",
    "                    \n",
    "                    del val_set,train_set,predictY,val_residuals,reg\n",
    "                \n",
    "                tRSS.append(val_RSS)\n",
    "                del val_RSS\n",
    "                \n",
    "            alpha_map[imonth,ilat,ilon] = alphas[np.argmin(tRSS)]\n",
    "            del tRSS\n",
    "print(\"completed!\")"
   ]
  },
  {
   "cell_type": "code",
   "execution_count": 12,
   "metadata": {},
   "outputs": [
    {
     "name": "stdout",
     "output_type": "stream",
     "text": [
      "completed!\n"
     ]
    }
   ],
   "source": [
    "predictY = np.zeros((nyear,nmonth,nlat,nlon))\n",
    "                               \n",
    "for imonth in range(nmonth):\n",
    "    for ilat in range(nlat):\n",
    "        for ilon in range(nlon):\n",
    "            reg = linear_model.Ridge (alpha = alpha_map[imonth,ilat,ilon])\n",
    "            reg.fit(x[:,:],y[:,imonth,ilat,ilon])\n",
    "            predictY[:,imonth,ilat,ilon] = reg.predict(x)\n",
    "            del reg\n",
    "print(\"completed!\")"
   ]
  },
  {
   "cell_type": "code",
   "execution_count": 13,
   "metadata": {
    "collapsed": true
   },
   "outputs": [],
   "source": [
    "pr = Dataset('predict.r.ridge.v2.nc', 'w',format='NETCDF3_64BIT')\n",
    "pr.description = 'predicted rainfall anomalies using Ridge regression'\n",
    "\n",
    "pr.createDimension('year', nyear)\n",
    "pr.createDimension('month', nmonth)\n",
    "pr.createDimension('lat', nlat)\n",
    "pr.createDimension('lon', nlon)\n",
    "\n",
    "fyear = pr.createVariable('year', 'f', ('year',))\n",
    "fmonth = pr.createVariable('month', 'f', ('month',))\n",
    "flat = pr.createVariable('lat', 'f', ('lat',))\n",
    "flon = pr.createVariable('lon', 'f', ('lon',))\n",
    "newr = pr.createVariable('r', 'f4', ('year', 'month','lat','lon'),fill_value=predictY[0,0,0,0])\n",
    "\n",
    "fyear[:] = f2.variables['year']\n",
    "fmonth[:] = f2.variables['month']\n",
    "flat[:] = f2.variables['lat'][lat_inds]\n",
    "flon[:] = f2.variables['lon'][lon_inds]\n",
    "newr[:,:,:,:] = predictY[:,:,:,:]\n",
    "flat.units = \"degrees_north\"\n",
    "flat.long_name = \"Latitude\"\n",
    "flon.units = \"degrees_east\"\n",
    "flon.long_name = \"Longitude\"\n",
    "newr.long_name = 'predicted rainfall anomalies using Ridge regression'\n",
    "pr.close()"
   ]
  },
  {
   "cell_type": "markdown",
   "metadata": {},
   "source": [
    "# This is for Lasso regression to find out the best alpha"
   ]
  },
  {
   "cell_type": "code",
   "execution_count": null,
   "metadata": {},
   "outputs": [],
   "source": [
    "n_alphas = 200\n",
    "alphas = np.logspace(-10, 4, n_alphas)\n",
    "\n",
    "k_list = [i for i in range(0,nyear,3)]\n",
    "k_list[len(k_list)-1] = nyear # make last year\n",
    "\n",
    "alpha_map = np.zeros((nmonth,nlat,nlon))\n",
    "\n",
    "for imonth in range(nmonth): # each month has its own model\n",
    "    for ilat in range(nlat): # each location has its own model\n",
    "        for ilon in range(nlon):\n",
    "            tRSS = []\n",
    "            \n",
    "            for ia in range(len(alphas)):\n",
    "                val_RSS = 0.\n",
    "                \n",
    "                for ik in range(len(k_list)-1):\n",
    "                    val_set = [i for i in range(k_list[ik],k_list[ik+1])]\n",
    "                    train_set = [i for j, i in enumerate(range(nyear)) if j not in val_set]\n",
    "                    \n",
    "                    reg = linear_model.Lasso (alpha = alphas[ia])\n",
    "                    reg.fit(x[train_set,:],y[train_set,imonth,ilat,ilon])\n",
    "                    predictY = reg.predict(x[val_set,:])\n",
    "                    \n",
    "                    val_residuals = y[val_set,imonth,ilat,ilon]-predictY[:]\n",
    "                    val_RSS = (val_residuals**2).sum() + val_RSS\n",
    "                    \n",
    "                    del val_set,train_set,predictY,val_residuals,reg\n",
    "                \n",
    "                tRSS.append(val_RSS)\n",
    "                del val_RSS\n",
    "                \n",
    "            alpha_map[imonth,ilat,ilon] = alphas[np.argmin(tRSS)]\n",
    "            del tRSS\n",
    "print(\"completed!\")"
   ]
  },
  {
   "cell_type": "code",
   "execution_count": null,
   "metadata": {},
   "outputs": [],
   "source": [
    "predictY = np.zeros((nyear,nmonth,nlat,nlon))\n",
    "                               \n",
    "for imonth in range(nmonth):\n",
    "    for ilat in range(nlat):\n",
    "        for ilon in range(nlon):\n",
    "            reg = linear_model.Lasso (alpha = alpha_map[imonth,ilat,ilon])\n",
    "            reg.fit(x[:,:],y[:,imonth,ilat,ilon])\n",
    "            predictY[:,imonth,ilat,ilon] = reg.predict(x)\n",
    "            del reg\n",
    "print(\"completed!\")"
   ]
  },
  {
   "cell_type": "code",
   "execution_count": null,
   "metadata": {
    "collapsed": true
   },
   "outputs": [],
   "source": [
    "pr = Dataset('predict.r.lasso.v2.nc', 'w',format='NETCDF3_64BIT')\n",
    "pr.description = 'predicted rainfall anomalies using Lasso regression'\n",
    "\n",
    "pr.createDimension('year', nyear)\n",
    "pr.createDimension('month', nmonth)\n",
    "pr.createDimension('lat', nlat)\n",
    "pr.createDimension('lon', nlon)\n",
    "\n",
    "fyear = pr.createVariable('year', 'f', ('year',))\n",
    "fmonth = pr.createVariable('month', 'f', ('month',))\n",
    "flat = pr.createVariable('lat', 'f', ('lat',))\n",
    "flon = pr.createVariable('lon', 'f', ('lon',))\n",
    "newr = pr.createVariable('r', 'f4', ('year', 'month','lat','lon'),fill_value=predictY[0,0,0,0])\n",
    "\n",
    "fyear[:] = f2.variables['year']\n",
    "fmonth[:] = f2.variables['month']\n",
    "flat[:] = f2.variables['lat'][lat_inds]\n",
    "flon[:] = f2.variables['lon'][lon_inds]\n",
    "newr[:,:,:,:] = predictY[:,:,:,:]\n",
    "flat.units = \"degrees_north\"\n",
    "flat.long_name = \"Latitude\"\n",
    "flon.units = \"degrees_east\"\n",
    "flon.long_name = \"Longitude\"\n",
    "newr.long_name = 'predicted rainfall anomalies using Ridge regression'\n",
    "pr.close()"
   ]
  },
  {
   "cell_type": "code",
   "execution_count": null,
   "metadata": {
    "collapsed": true
   },
   "outputs": [],
   "source": []
  }
 ],
 "metadata": {
  "anaconda-cloud": {},
  "kernelspec": {
   "display_name": "Python 3",
   "language": "python",
   "name": "python3"
  },
  "language_info": {
   "codemirror_mode": {
    "name": "ipython",
    "version": 3
   },
   "file_extension": ".py",
   "mimetype": "text/x-python",
   "name": "python",
   "nbconvert_exporter": "python",
   "pygments_lexer": "ipython3",
   "version": "3.7.3"
  }
 },
 "nbformat": 4,
 "nbformat_minor": 1
}
